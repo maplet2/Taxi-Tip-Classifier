{
 "cells": [
  {
   "cell_type": "code",
   "execution_count": 3,
   "metadata": {},
   "outputs": [],
   "source": [
    "%matplotlib inline\n",
    "\n",
    "import pandas as pd\n",
    "import numpy as np\n",
    "import matplotlib.pyplot as plt\n",
    "from datetime import datetime\n",
    "from sklearn.model_selection import train_test_split\n",
    "from sklearn import metrics\n",
    "from sklearn import preprocessing\n",
    "from sklearn.metrics import accuracy_score, f1_score, precision_score, recall_score, classification_report, confusion_matrix"
   ]
  },
  {
   "cell_type": "code",
   "execution_count": 4,
   "metadata": {
    "collapsed": true
   },
   "outputs": [],
   "source": [
    "def convert_dt(original_dt, dt_format):\n",
    "    original = original_dt\n",
    "    date_objects = []\n",
    "\n",
    "    for d in original:\n",
    "        dt_obj = datetime.strptime(d, dt_format)\n",
    "        date_objects.append(dt_obj)\n",
    "        \n",
    "    return date_objects"
   ]
  },
  {
   "cell_type": "code",
   "execution_count": 5,
   "metadata": {
    "collapsed": true
   },
   "outputs": [],
   "source": [
    "def metrics(y_pred, y_test):\n",
    "    \n",
    "    accuracy = accuracy_score(y_test, y_pred)\n",
    "    recall = recall_score(y_test, y_pred, average='macro')\n",
    "    precision = precision_score(y_test,y_pred, average='macro')\n",
    "    \n",
    "    print('Accuracy: {}'.format(accuracy))\n",
    "    print('Recall: {}'.format(recall))\n",
    "    print('Precision: {}'.format(precision))"
   ]
  },
  {
   "cell_type": "code",
   "execution_count": 6,
   "metadata": {},
   "outputs": [
    {
     "data": {
      "text/html": [
       "<div>\n",
       "<style>\n",
       "    .dataframe thead tr:only-child th {\n",
       "        text-align: right;\n",
       "    }\n",
       "\n",
       "    .dataframe thead th {\n",
       "        text-align: left;\n",
       "    }\n",
       "\n",
       "    .dataframe tbody tr th {\n",
       "        vertical-align: top;\n",
       "    }\n",
       "</style>\n",
       "<table border=\"1\" class=\"dataframe\">\n",
       "  <thead>\n",
       "    <tr style=\"text-align: right;\">\n",
       "      <th></th>\n",
       "      <th>hack_license</th>\n",
       "      <th>pickup_datetime</th>\n",
       "      <th>payment_type</th>\n",
       "      <th>total_amount</th>\n",
       "      <th>tip_amount</th>\n",
       "      <th>tip_percentage</th>\n",
       "      <th>passenger_count</th>\n",
       "      <th>trip_time_in_secs</th>\n",
       "      <th>trip_distance</th>\n",
       "      <th>pickup_longitude</th>\n",
       "      <th>pickup_latitude</th>\n",
       "      <th>dropoff_longitude</th>\n",
       "      <th>dropoff_latitude</th>\n",
       "      <th>tip_rate</th>\n",
       "      <th>TAVG</th>\n",
       "      <th>precipitation</th>\n",
       "      <th>rush_hour</th>\n",
       "    </tr>\n",
       "  </thead>\n",
       "  <tbody>\n",
       "    <tr>\n",
       "      <th>0</th>\n",
       "      <td>1A6CAB3092DCB1821793159CE85E889B</td>\n",
       "      <td>2013-01-01 16:57:00</td>\n",
       "      <td>CSH</td>\n",
       "      <td>21.00</td>\n",
       "      <td>0.00</td>\n",
       "      <td>0.000000</td>\n",
       "      <td>5</td>\n",
       "      <td>960</td>\n",
       "      <td>6.49</td>\n",
       "      <td>-73.862747</td>\n",
       "      <td>40.769035</td>\n",
       "      <td>-73.924576</td>\n",
       "      <td>40.739918</td>\n",
       "      <td>Low</td>\n",
       "      <td>32.0</td>\n",
       "      <td>0.000755</td>\n",
       "      <td>True</td>\n",
       "    </tr>\n",
       "    <tr>\n",
       "      <th>1</th>\n",
       "      <td>1A6CAB3092DCB1821793159CE85E889B</td>\n",
       "      <td>2013-01-01 13:53:00</td>\n",
       "      <td>CSH</td>\n",
       "      <td>8.50</td>\n",
       "      <td>0.00</td>\n",
       "      <td>0.000000</td>\n",
       "      <td>5</td>\n",
       "      <td>360</td>\n",
       "      <td>2.09</td>\n",
       "      <td>-73.989174</td>\n",
       "      <td>40.774166</td>\n",
       "      <td>-74.000671</td>\n",
       "      <td>40.750278</td>\n",
       "      <td>Low</td>\n",
       "      <td>32.0</td>\n",
       "      <td>0.000755</td>\n",
       "      <td>False</td>\n",
       "    </tr>\n",
       "    <tr>\n",
       "      <th>2</th>\n",
       "      <td>1A6CAB3092DCB1821793159CE85E889B</td>\n",
       "      <td>2013-01-01 15:16:00</td>\n",
       "      <td>CRD</td>\n",
       "      <td>12.38</td>\n",
       "      <td>2.38</td>\n",
       "      <td>19.224556</td>\n",
       "      <td>5</td>\n",
       "      <td>540</td>\n",
       "      <td>2.25</td>\n",
       "      <td>-74.004433</td>\n",
       "      <td>40.722157</td>\n",
       "      <td>-73.991508</td>\n",
       "      <td>40.748821</td>\n",
       "      <td>Mid</td>\n",
       "      <td>32.0</td>\n",
       "      <td>0.000755</td>\n",
       "      <td>False</td>\n",
       "    </tr>\n",
       "    <tr>\n",
       "      <th>3</th>\n",
       "      <td>1A6CAB3092DCB1821793159CE85E889B</td>\n",
       "      <td>2013-01-01 17:53:00</td>\n",
       "      <td>CSH</td>\n",
       "      <td>4.00</td>\n",
       "      <td>0.00</td>\n",
       "      <td>0.000000</td>\n",
       "      <td>5</td>\n",
       "      <td>60</td>\n",
       "      <td>0.53</td>\n",
       "      <td>-73.984528</td>\n",
       "      <td>40.728703</td>\n",
       "      <td>-73.987152</td>\n",
       "      <td>40.732422</td>\n",
       "      <td>Low</td>\n",
       "      <td>32.0</td>\n",
       "      <td>0.000755</td>\n",
       "      <td>True</td>\n",
       "    </tr>\n",
       "    <tr>\n",
       "      <th>4</th>\n",
       "      <td>1A6CAB3092DCB1821793159CE85E889B</td>\n",
       "      <td>2013-01-01 17:57:00</td>\n",
       "      <td>CRD</td>\n",
       "      <td>8.50</td>\n",
       "      <td>1.00</td>\n",
       "      <td>11.764706</td>\n",
       "      <td>5</td>\n",
       "      <td>420</td>\n",
       "      <td>1.39</td>\n",
       "      <td>-73.988556</td>\n",
       "      <td>40.737137</td>\n",
       "      <td>-73.975616</td>\n",
       "      <td>40.750626</td>\n",
       "      <td>Low</td>\n",
       "      <td>32.0</td>\n",
       "      <td>0.000755</td>\n",
       "      <td>True</td>\n",
       "    </tr>\n",
       "  </tbody>\n",
       "</table>\n",
       "</div>"
      ],
      "text/plain": [
       "                       hack_license     pickup_datetime payment_type  \\\n",
       "0  1A6CAB3092DCB1821793159CE85E889B 2013-01-01 16:57:00          CSH   \n",
       "1  1A6CAB3092DCB1821793159CE85E889B 2013-01-01 13:53:00          CSH   \n",
       "2  1A6CAB3092DCB1821793159CE85E889B 2013-01-01 15:16:00          CRD   \n",
       "3  1A6CAB3092DCB1821793159CE85E889B 2013-01-01 17:53:00          CSH   \n",
       "4  1A6CAB3092DCB1821793159CE85E889B 2013-01-01 17:57:00          CRD   \n",
       "\n",
       "   total_amount  tip_amount  tip_percentage  passenger_count  \\\n",
       "0         21.00        0.00        0.000000                5   \n",
       "1          8.50        0.00        0.000000                5   \n",
       "2         12.38        2.38       19.224556                5   \n",
       "3          4.00        0.00        0.000000                5   \n",
       "4          8.50        1.00       11.764706                5   \n",
       "\n",
       "   trip_time_in_secs  trip_distance  pickup_longitude  pickup_latitude  \\\n",
       "0                960           6.49        -73.862747        40.769035   \n",
       "1                360           2.09        -73.989174        40.774166   \n",
       "2                540           2.25        -74.004433        40.722157   \n",
       "3                 60           0.53        -73.984528        40.728703   \n",
       "4                420           1.39        -73.988556        40.737137   \n",
       "\n",
       "   dropoff_longitude  dropoff_latitude tip_rate  TAVG  precipitation  \\\n",
       "0         -73.924576         40.739918      Low  32.0       0.000755   \n",
       "1         -74.000671         40.750278      Low  32.0       0.000755   \n",
       "2         -73.991508         40.748821      Mid  32.0       0.000755   \n",
       "3         -73.987152         40.732422      Low  32.0       0.000755   \n",
       "4         -73.975616         40.750626      Low  32.0       0.000755   \n",
       "\n",
       "   rush_hour  \n",
       "0       True  \n",
       "1      False  \n",
       "2      False  \n",
       "3       True  \n",
       "4       True  "
      ]
     },
     "execution_count": 6,
     "metadata": {},
     "output_type": "execute_result"
    }
   ],
   "source": [
    "taxi_df = pd.read_csv('Taxi_df.csv')\n",
    "taxi_df = taxi_df.drop('Unnamed: 0', axis = 1)\n",
    " \n",
    "pudt = taxi_df['pickup_datetime']\n",
    "pudt = convert_dt(pudt, '%Y-%m-%d %H:%M:%S')\n",
    "\n",
    "taxi_df['pickup_datetime'] = pudt\n",
    "taxi_df.head()"
   ]
  },
  {
   "cell_type": "code",
   "execution_count": 5,
   "metadata": {
    "collapsed": true
   },
   "outputs": [],
   "source": [
    "target = 'tip_rate'\n",
    "feats = ['payment_type','total_amount','passenger_count','trip_time_in_secs',\n",
    "         'trip_distance','TAVG','precipitation','rush_hour']"
   ]
  },
  {
   "cell_type": "code",
   "execution_count": 6,
   "metadata": {},
   "outputs": [
    {
     "data": {
      "text/plain": [
       "LabelEncoder()"
      ]
     },
     "execution_count": 6,
     "metadata": {},
     "output_type": "execute_result"
    }
   ],
   "source": [
    "le = preprocessing.LabelEncoder()\n",
    "le.fit(taxi_df[target])"
   ]
  },
  {
   "cell_type": "code",
   "execution_count": 7,
   "metadata": {
    "collapsed": true
   },
   "outputs": [],
   "source": [
    "taxi_df[target] = le.transform(taxi_df[target])"
   ]
  },
  {
   "cell_type": "code",
   "execution_count": 8,
   "metadata": {},
   "outputs": [
    {
     "data": {
      "text/plain": [
       "LabelEncoder()"
      ]
     },
     "execution_count": 8,
     "metadata": {},
     "output_type": "execute_result"
    }
   ],
   "source": [
    "le2 = preprocessing.LabelEncoder()\n",
    "le2.fit(taxi_df['payment_type'])"
   ]
  },
  {
   "cell_type": "code",
   "execution_count": 9,
   "metadata": {
    "collapsed": true
   },
   "outputs": [],
   "source": [
    "taxi_df['payment_type'] = le2.transform(taxi_df['payment_type'])"
   ]
  },
  {
   "cell_type": "code",
   "execution_count": 10,
   "metadata": {},
   "outputs": [
    {
     "data": {
      "text/html": [
       "<div>\n",
       "<style>\n",
       "    .dataframe thead tr:only-child th {\n",
       "        text-align: right;\n",
       "    }\n",
       "\n",
       "    .dataframe thead th {\n",
       "        text-align: left;\n",
       "    }\n",
       "\n",
       "    .dataframe tbody tr th {\n",
       "        vertical-align: top;\n",
       "    }\n",
       "</style>\n",
       "<table border=\"1\" class=\"dataframe\">\n",
       "  <thead>\n",
       "    <tr style=\"text-align: right;\">\n",
       "      <th></th>\n",
       "      <th>hack_license</th>\n",
       "      <th>pickup_datetime</th>\n",
       "      <th>payment_type</th>\n",
       "      <th>total_amount</th>\n",
       "      <th>tip_amount</th>\n",
       "      <th>tip_percentage</th>\n",
       "      <th>passenger_count</th>\n",
       "      <th>trip_time_in_secs</th>\n",
       "      <th>trip_distance</th>\n",
       "      <th>pickup_longitude</th>\n",
       "      <th>pickup_latitude</th>\n",
       "      <th>dropoff_longitude</th>\n",
       "      <th>dropoff_latitude</th>\n",
       "      <th>tip_rate</th>\n",
       "      <th>TAVG</th>\n",
       "      <th>precipitation</th>\n",
       "      <th>rush_hour</th>\n",
       "    </tr>\n",
       "  </thead>\n",
       "  <tbody>\n",
       "    <tr>\n",
       "      <th>0</th>\n",
       "      <td>1A6CAB3092DCB1821793159CE85E889B</td>\n",
       "      <td>2013-01-01 16:57:00</td>\n",
       "      <td>1</td>\n",
       "      <td>21.00</td>\n",
       "      <td>0.00</td>\n",
       "      <td>0.000000</td>\n",
       "      <td>5</td>\n",
       "      <td>960</td>\n",
       "      <td>6.49</td>\n",
       "      <td>-73.862747</td>\n",
       "      <td>40.769035</td>\n",
       "      <td>-73.924576</td>\n",
       "      <td>40.739918</td>\n",
       "      <td>1</td>\n",
       "      <td>32.0</td>\n",
       "      <td>0.000755</td>\n",
       "      <td>True</td>\n",
       "    </tr>\n",
       "    <tr>\n",
       "      <th>1</th>\n",
       "      <td>1A6CAB3092DCB1821793159CE85E889B</td>\n",
       "      <td>2013-01-01 13:53:00</td>\n",
       "      <td>1</td>\n",
       "      <td>8.50</td>\n",
       "      <td>0.00</td>\n",
       "      <td>0.000000</td>\n",
       "      <td>5</td>\n",
       "      <td>360</td>\n",
       "      <td>2.09</td>\n",
       "      <td>-73.989174</td>\n",
       "      <td>40.774166</td>\n",
       "      <td>-74.000671</td>\n",
       "      <td>40.750278</td>\n",
       "      <td>1</td>\n",
       "      <td>32.0</td>\n",
       "      <td>0.000755</td>\n",
       "      <td>False</td>\n",
       "    </tr>\n",
       "    <tr>\n",
       "      <th>2</th>\n",
       "      <td>1A6CAB3092DCB1821793159CE85E889B</td>\n",
       "      <td>2013-01-01 15:16:00</td>\n",
       "      <td>0</td>\n",
       "      <td>12.38</td>\n",
       "      <td>2.38</td>\n",
       "      <td>19.224556</td>\n",
       "      <td>5</td>\n",
       "      <td>540</td>\n",
       "      <td>2.25</td>\n",
       "      <td>-74.004433</td>\n",
       "      <td>40.722157</td>\n",
       "      <td>-73.991508</td>\n",
       "      <td>40.748821</td>\n",
       "      <td>2</td>\n",
       "      <td>32.0</td>\n",
       "      <td>0.000755</td>\n",
       "      <td>False</td>\n",
       "    </tr>\n",
       "    <tr>\n",
       "      <th>3</th>\n",
       "      <td>1A6CAB3092DCB1821793159CE85E889B</td>\n",
       "      <td>2013-01-01 17:53:00</td>\n",
       "      <td>1</td>\n",
       "      <td>4.00</td>\n",
       "      <td>0.00</td>\n",
       "      <td>0.000000</td>\n",
       "      <td>5</td>\n",
       "      <td>60</td>\n",
       "      <td>0.53</td>\n",
       "      <td>-73.984528</td>\n",
       "      <td>40.728703</td>\n",
       "      <td>-73.987152</td>\n",
       "      <td>40.732422</td>\n",
       "      <td>1</td>\n",
       "      <td>32.0</td>\n",
       "      <td>0.000755</td>\n",
       "      <td>True</td>\n",
       "    </tr>\n",
       "    <tr>\n",
       "      <th>4</th>\n",
       "      <td>1A6CAB3092DCB1821793159CE85E889B</td>\n",
       "      <td>2013-01-01 17:57:00</td>\n",
       "      <td>0</td>\n",
       "      <td>8.50</td>\n",
       "      <td>1.00</td>\n",
       "      <td>11.764706</td>\n",
       "      <td>5</td>\n",
       "      <td>420</td>\n",
       "      <td>1.39</td>\n",
       "      <td>-73.988556</td>\n",
       "      <td>40.737137</td>\n",
       "      <td>-73.975616</td>\n",
       "      <td>40.750626</td>\n",
       "      <td>1</td>\n",
       "      <td>32.0</td>\n",
       "      <td>0.000755</td>\n",
       "      <td>True</td>\n",
       "    </tr>\n",
       "  </tbody>\n",
       "</table>\n",
       "</div>"
      ],
      "text/plain": [
       "                       hack_license     pickup_datetime  payment_type  \\\n",
       "0  1A6CAB3092DCB1821793159CE85E889B 2013-01-01 16:57:00             1   \n",
       "1  1A6CAB3092DCB1821793159CE85E889B 2013-01-01 13:53:00             1   \n",
       "2  1A6CAB3092DCB1821793159CE85E889B 2013-01-01 15:16:00             0   \n",
       "3  1A6CAB3092DCB1821793159CE85E889B 2013-01-01 17:53:00             1   \n",
       "4  1A6CAB3092DCB1821793159CE85E889B 2013-01-01 17:57:00             0   \n",
       "\n",
       "   total_amount  tip_amount  tip_percentage  passenger_count  \\\n",
       "0         21.00        0.00        0.000000                5   \n",
       "1          8.50        0.00        0.000000                5   \n",
       "2         12.38        2.38       19.224556                5   \n",
       "3          4.00        0.00        0.000000                5   \n",
       "4          8.50        1.00       11.764706                5   \n",
       "\n",
       "   trip_time_in_secs  trip_distance  pickup_longitude  pickup_latitude  \\\n",
       "0                960           6.49        -73.862747        40.769035   \n",
       "1                360           2.09        -73.989174        40.774166   \n",
       "2                540           2.25        -74.004433        40.722157   \n",
       "3                 60           0.53        -73.984528        40.728703   \n",
       "4                420           1.39        -73.988556        40.737137   \n",
       "\n",
       "   dropoff_longitude  dropoff_latitude  tip_rate  TAVG  precipitation  \\\n",
       "0         -73.924576         40.739918         1  32.0       0.000755   \n",
       "1         -74.000671         40.750278         1  32.0       0.000755   \n",
       "2         -73.991508         40.748821         2  32.0       0.000755   \n",
       "3         -73.987152         40.732422         1  32.0       0.000755   \n",
       "4         -73.975616         40.750626         1  32.0       0.000755   \n",
       "\n",
       "   rush_hour  \n",
       "0       True  \n",
       "1      False  \n",
       "2      False  \n",
       "3       True  \n",
       "4       True  "
      ]
     },
     "execution_count": 10,
     "metadata": {},
     "output_type": "execute_result"
    }
   ],
   "source": [
    "taxi_df.head()"
   ]
  },
  {
   "cell_type": "code",
   "execution_count": 11,
   "metadata": {
    "collapsed": true
   },
   "outputs": [],
   "source": [
    "X_train, X_test, y_train, y_test = train_test_split(taxi_df[feats], taxi_df[target], test_size = 0.3)"
   ]
  },
  {
   "cell_type": "markdown",
   "metadata": {},
   "source": [
    "## DecisionTree Classifier"
   ]
  },
  {
   "cell_type": "code",
   "execution_count": 12,
   "metadata": {
    "collapsed": true
   },
   "outputs": [],
   "source": [
    "from sklearn.tree import DecisionTreeClassifier\n",
    "tree = DecisionTreeClassifier(criterion = 'entropy', min_samples_split = 2)"
   ]
  },
  {
   "cell_type": "code",
   "execution_count": 13,
   "metadata": {},
   "outputs": [
    {
     "data": {
      "text/plain": [
       "DecisionTreeClassifier(class_weight=None, criterion='entropy', max_depth=None,\n",
       "            max_features=None, max_leaf_nodes=None,\n",
       "            min_impurity_decrease=0.0, min_impurity_split=None,\n",
       "            min_samples_leaf=1, min_samples_split=2,\n",
       "            min_weight_fraction_leaf=0.0, presort=False, random_state=None,\n",
       "            splitter='best')"
      ]
     },
     "execution_count": 13,
     "metadata": {},
     "output_type": "execute_result"
    }
   ],
   "source": [
    "tree.fit(X_train, y_train)"
   ]
  },
  {
   "cell_type": "code",
   "execution_count": 14,
   "metadata": {
    "collapsed": true
   },
   "outputs": [],
   "source": [
    "y_predict = tree.predict(X_test)"
   ]
  },
  {
   "cell_type": "code",
   "execution_count": 15,
   "metadata": {},
   "outputs": [
    {
     "name": "stdout",
     "output_type": "stream",
     "text": [
      "Accuracy: 0.9272055083916905\n",
      "Recall: 0.8482958614775726\n",
      "Precision: 0.8466043002972466\n"
     ]
    }
   ],
   "source": [
    "metrics(y_predict, y_test)"
   ]
  },
  {
   "cell_type": "markdown",
   "metadata": {},
   "source": [
    "## Naive Bayes"
   ]
  },
  {
   "cell_type": "code",
   "execution_count": 16,
   "metadata": {
    "collapsed": true
   },
   "outputs": [],
   "source": [
    "from sklearn.naive_bayes import GaussianNB\n",
    "gnb = GaussianNB()"
   ]
  },
  {
   "cell_type": "code",
   "execution_count": 17,
   "metadata": {
    "collapsed": true
   },
   "outputs": [],
   "source": [
    "gnb_model = gnb.fit(X_train, y_train)"
   ]
  },
  {
   "cell_type": "code",
   "execution_count": 18,
   "metadata": {
    "collapsed": true
   },
   "outputs": [],
   "source": [
    "y_pred = gnb_model.predict(X_test)"
   ]
  },
  {
   "cell_type": "code",
   "execution_count": 19,
   "metadata": {},
   "outputs": [
    {
     "name": "stdout",
     "output_type": "stream",
     "text": [
      "Accuracy: 0.03894996283400493\n",
      "Recall: 0.33473133191822374\n",
      "Precision: 0.29651123033771926\n"
     ]
    },
    {
     "name": "stderr",
     "output_type": "stream",
     "text": [
      "C:\\Users\\Maple\\Anaconda3\\lib\\site-packages\\sklearn\\metrics\\classification.py:1135: UndefinedMetricWarning: Precision is ill-defined and being set to 0.0 in labels with no predicted samples.\n",
      "  'precision', 'predicted', average, warn_for)\n"
     ]
    }
   ],
   "source": [
    "metrics(y_pred, y_test)"
   ]
  },
  {
   "cell_type": "markdown",
   "metadata": {},
   "source": [
    "## RandomForest Classifier"
   ]
  },
  {
   "cell_type": "code",
   "execution_count": 20,
   "metadata": {
    "collapsed": true
   },
   "outputs": [],
   "source": [
    "from sklearn.ensemble import RandomForestClassifier\n",
    "\n",
    "nTrees = 100\n",
    "max_depth = 5\n",
    "min_node_size = 5\n",
    "verbose = 0\n",
    "\n",
    "clf = RandomForestClassifier(n_estimators=nTrees, max_depth=max_depth, random_state=0, verbose=verbose, min_samples_leaf=min_node_size)"
   ]
  },
  {
   "cell_type": "code",
   "execution_count": 21,
   "metadata": {},
   "outputs": [
    {
     "data": {
      "text/plain": [
       "RandomForestClassifier(bootstrap=True, class_weight=None, criterion='gini',\n",
       "            max_depth=5, max_features='auto', max_leaf_nodes=None,\n",
       "            min_impurity_decrease=0.0, min_impurity_split=None,\n",
       "            min_samples_leaf=5, min_samples_split=2,\n",
       "            min_weight_fraction_leaf=0.0, n_estimators=100, n_jobs=1,\n",
       "            oob_score=False, random_state=0, verbose=0, warm_start=False)"
      ]
     },
     "execution_count": 21,
     "metadata": {},
     "output_type": "execute_result"
    }
   ],
   "source": [
    "clf.fit(X_train, y_train)"
   ]
  },
  {
   "cell_type": "code",
   "execution_count": 22,
   "metadata": {
    "collapsed": true
   },
   "outputs": [],
   "source": [
    "y_pred = clf.predict(X_test)"
   ]
  },
  {
   "cell_type": "code",
   "execution_count": 23,
   "metadata": {},
   "outputs": [
    {
     "name": "stdout",
     "output_type": "stream",
     "text": [
      "Accuracy: 0.8001427956652714\n",
      "Recall: 0.5797752784651665\n",
      "Precision: 0.5394337244724247\n"
     ]
    },
    {
     "name": "stderr",
     "output_type": "stream",
     "text": [
      "C:\\Users\\Maple\\Anaconda3\\lib\\site-packages\\sklearn\\metrics\\classification.py:1135: UndefinedMetricWarning: Precision is ill-defined and being set to 0.0 in labels with no predicted samples.\n",
      "  'precision', 'predicted', average, warn_for)\n"
     ]
    }
   ],
   "source": [
    "metrics(y_pred, y_test)"
   ]
  },
  {
   "cell_type": "markdown",
   "metadata": {},
   "source": [
    "## SVM"
   ]
  },
  {
   "cell_type": "code",
   "execution_count": 27,
   "metadata": {
    "collapsed": true
   },
   "outputs": [],
   "source": [
    "from sklearn import svm\n",
    "clf = svm.SVC(kernel='rbf')"
   ]
  },
  {
   "cell_type": "code",
   "execution_count": null,
   "metadata": {
    "collapsed": true
   },
   "outputs": [],
   "source": [
    "svm_model = clf.fit(X_train, y_train) "
   ]
  },
  {
   "cell_type": "code",
   "execution_count": null,
   "metadata": {
    "collapsed": true
   },
   "outputs": [],
   "source": [
    "accuracy = round(float((target_test_pred == target_test).sum())/len(target_test)*100,2)\n",
    "print(\"Accuracy=%.2f%%\"%accuracy)"
   ]
  },
  {
   "cell_type": "markdown",
   "metadata": {},
   "source": [
    "## K Nearest Neighbors"
   ]
  },
  {
   "cell_type": "code",
   "execution_count": 24,
   "metadata": {
    "collapsed": true
   },
   "outputs": [],
   "source": [
    "from sklearn.neighbors import KNeighborsClassifier\n",
    "knn = KNeighborsClassifier(n_neighbors=3)\n"
   ]
  },
  {
   "cell_type": "code",
   "execution_count": 25,
   "metadata": {},
   "outputs": [
    {
     "data": {
      "text/plain": [
       "KNeighborsClassifier(algorithm='auto', leaf_size=30, metric='minkowski',\n",
       "           metric_params=None, n_jobs=1, n_neighbors=3, p=2,\n",
       "           weights='uniform')"
      ]
     },
     "execution_count": 25,
     "metadata": {},
     "output_type": "execute_result"
    }
   ],
   "source": [
    "knn.fit(X_train, y_train)\n"
   ]
  },
  {
   "cell_type": "code",
   "execution_count": 26,
   "metadata": {
    "collapsed": true
   },
   "outputs": [],
   "source": [
    "y_pred = knn.predict(X_test)"
   ]
  },
  {
   "cell_type": "code",
   "execution_count": 27,
   "metadata": {},
   "outputs": [
    {
     "name": "stdout",
     "output_type": "stream",
     "text": [
      "Accuracy: 0.7749911975274832\n",
      "Recall: 0.5633980388122798\n",
      "Precision: 0.5585610298301598\n"
     ]
    }
   ],
   "source": [
    "metrics(y_pred, y_test)"
   ]
  },
  {
   "cell_type": "code",
   "execution_count": null,
   "metadata": {
    "collapsed": true
   },
   "outputs": [],
   "source": []
  }
 ],
 "metadata": {
  "kernelspec": {
   "display_name": "Python 3",
   "language": "python",
   "name": "python3"
  },
  "language_info": {
   "codemirror_mode": {
    "name": "ipython",
    "version": 3
   },
   "file_extension": ".py",
   "mimetype": "text/x-python",
   "name": "python",
   "nbconvert_exporter": "python",
   "pygments_lexer": "ipython3",
   "version": "3.7.3"
  }
 },
 "nbformat": 4,
 "nbformat_minor": 2
}
