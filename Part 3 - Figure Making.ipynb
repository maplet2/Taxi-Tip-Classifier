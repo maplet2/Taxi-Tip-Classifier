{
 "cells": [
  {
   "cell_type": "code",
   "execution_count": 25,
   "metadata": {
    "collapsed": true
   },
   "outputs": [],
   "source": [
    "%matplotlib inline\n",
    "\n",
    "import pandas as pd\n",
    "import numpy as np\n",
    "import matplotlib.pyplot as plt\n",
    "from datetime import datetime\n",
    "from scipy.stats.stats import pearsonr   "
   ]
  },
  {
   "cell_type": "code",
   "execution_count": 2,
   "metadata": {
    "collapsed": true
   },
   "outputs": [],
   "source": [
    "def convert_dt(original_dt, dt_format):\n",
    "    original = original_dt\n",
    "    date_objects = []\n",
    "\n",
    "    for d in original:\n",
    "        dt_obj = datetime.strptime(d, dt_format)\n",
    "        date_objects.append(dt_obj)\n",
    "        \n",
    "    return date_objects"
   ]
  },
  {
   "cell_type": "code",
   "execution_count": 3,
   "metadata": {},
   "outputs": [
    {
     "data": {
      "text/html": [
       "<div>\n",
       "<style>\n",
       "    .dataframe thead tr:only-child th {\n",
       "        text-align: right;\n",
       "    }\n",
       "\n",
       "    .dataframe thead th {\n",
       "        text-align: left;\n",
       "    }\n",
       "\n",
       "    .dataframe tbody tr th {\n",
       "        vertical-align: top;\n",
       "    }\n",
       "</style>\n",
       "<table border=\"1\" class=\"dataframe\">\n",
       "  <thead>\n",
       "    <tr style=\"text-align: right;\">\n",
       "      <th></th>\n",
       "      <th>hack_license</th>\n",
       "      <th>pickup_datetime</th>\n",
       "      <th>payment_type</th>\n",
       "      <th>total_amount</th>\n",
       "      <th>tip_amount</th>\n",
       "      <th>tip_percentage</th>\n",
       "      <th>passenger_count</th>\n",
       "      <th>trip_time_in_secs</th>\n",
       "      <th>trip_distance</th>\n",
       "      <th>pickup_longitude</th>\n",
       "      <th>pickup_latitude</th>\n",
       "      <th>dropoff_longitude</th>\n",
       "      <th>dropoff_latitude</th>\n",
       "      <th>tip_rate</th>\n",
       "      <th>TAVG</th>\n",
       "      <th>precipitation</th>\n",
       "    </tr>\n",
       "  </thead>\n",
       "  <tbody>\n",
       "    <tr>\n",
       "      <th>0</th>\n",
       "      <td>1A6CAB3092DCB1821793159CE85E889B</td>\n",
       "      <td>2013-01-01 16:57:00</td>\n",
       "      <td>CSH</td>\n",
       "      <td>21.00</td>\n",
       "      <td>0.00</td>\n",
       "      <td>0.000000</td>\n",
       "      <td>5</td>\n",
       "      <td>960</td>\n",
       "      <td>6.49</td>\n",
       "      <td>-73.862747</td>\n",
       "      <td>40.769035</td>\n",
       "      <td>-73.924576</td>\n",
       "      <td>40.739918</td>\n",
       "      <td>Low</td>\n",
       "      <td>32.0</td>\n",
       "      <td>0.000755</td>\n",
       "    </tr>\n",
       "    <tr>\n",
       "      <th>1</th>\n",
       "      <td>1A6CAB3092DCB1821793159CE85E889B</td>\n",
       "      <td>2013-01-01 13:53:00</td>\n",
       "      <td>CSH</td>\n",
       "      <td>8.50</td>\n",
       "      <td>0.00</td>\n",
       "      <td>0.000000</td>\n",
       "      <td>5</td>\n",
       "      <td>360</td>\n",
       "      <td>2.09</td>\n",
       "      <td>-73.989174</td>\n",
       "      <td>40.774166</td>\n",
       "      <td>-74.000671</td>\n",
       "      <td>40.750278</td>\n",
       "      <td>Low</td>\n",
       "      <td>32.0</td>\n",
       "      <td>0.000755</td>\n",
       "    </tr>\n",
       "    <tr>\n",
       "      <th>2</th>\n",
       "      <td>1A6CAB3092DCB1821793159CE85E889B</td>\n",
       "      <td>2013-01-01 15:16:00</td>\n",
       "      <td>CRD</td>\n",
       "      <td>12.38</td>\n",
       "      <td>2.38</td>\n",
       "      <td>19.224556</td>\n",
       "      <td>5</td>\n",
       "      <td>540</td>\n",
       "      <td>2.25</td>\n",
       "      <td>-74.004433</td>\n",
       "      <td>40.722157</td>\n",
       "      <td>-73.991508</td>\n",
       "      <td>40.748821</td>\n",
       "      <td>Mid</td>\n",
       "      <td>32.0</td>\n",
       "      <td>0.000755</td>\n",
       "    </tr>\n",
       "    <tr>\n",
       "      <th>3</th>\n",
       "      <td>1A6CAB3092DCB1821793159CE85E889B</td>\n",
       "      <td>2013-01-01 17:53:00</td>\n",
       "      <td>CSH</td>\n",
       "      <td>4.00</td>\n",
       "      <td>0.00</td>\n",
       "      <td>0.000000</td>\n",
       "      <td>5</td>\n",
       "      <td>60</td>\n",
       "      <td>0.53</td>\n",
       "      <td>-73.984528</td>\n",
       "      <td>40.728703</td>\n",
       "      <td>-73.987152</td>\n",
       "      <td>40.732422</td>\n",
       "      <td>Low</td>\n",
       "      <td>32.0</td>\n",
       "      <td>0.000755</td>\n",
       "    </tr>\n",
       "    <tr>\n",
       "      <th>4</th>\n",
       "      <td>1A6CAB3092DCB1821793159CE85E889B</td>\n",
       "      <td>2013-01-01 17:57:00</td>\n",
       "      <td>CRD</td>\n",
       "      <td>8.50</td>\n",
       "      <td>1.00</td>\n",
       "      <td>11.764706</td>\n",
       "      <td>5</td>\n",
       "      <td>420</td>\n",
       "      <td>1.39</td>\n",
       "      <td>-73.988556</td>\n",
       "      <td>40.737137</td>\n",
       "      <td>-73.975616</td>\n",
       "      <td>40.750626</td>\n",
       "      <td>Low</td>\n",
       "      <td>32.0</td>\n",
       "      <td>0.000755</td>\n",
       "    </tr>\n",
       "  </tbody>\n",
       "</table>\n",
       "</div>"
      ],
      "text/plain": [
       "                       hack_license     pickup_datetime payment_type  \\\n",
       "0  1A6CAB3092DCB1821793159CE85E889B 2013-01-01 16:57:00          CSH   \n",
       "1  1A6CAB3092DCB1821793159CE85E889B 2013-01-01 13:53:00          CSH   \n",
       "2  1A6CAB3092DCB1821793159CE85E889B 2013-01-01 15:16:00          CRD   \n",
       "3  1A6CAB3092DCB1821793159CE85E889B 2013-01-01 17:53:00          CSH   \n",
       "4  1A6CAB3092DCB1821793159CE85E889B 2013-01-01 17:57:00          CRD   \n",
       "\n",
       "   total_amount  tip_amount  tip_percentage  passenger_count  \\\n",
       "0         21.00        0.00        0.000000                5   \n",
       "1          8.50        0.00        0.000000                5   \n",
       "2         12.38        2.38       19.224556                5   \n",
       "3          4.00        0.00        0.000000                5   \n",
       "4          8.50        1.00       11.764706                5   \n",
       "\n",
       "   trip_time_in_secs  trip_distance  pickup_longitude  pickup_latitude  \\\n",
       "0                960           6.49        -73.862747        40.769035   \n",
       "1                360           2.09        -73.989174        40.774166   \n",
       "2                540           2.25        -74.004433        40.722157   \n",
       "3                 60           0.53        -73.984528        40.728703   \n",
       "4                420           1.39        -73.988556        40.737137   \n",
       "\n",
       "   dropoff_longitude  dropoff_latitude tip_rate  TAVG  precipitation  \n",
       "0         -73.924576         40.739918      Low  32.0       0.000755  \n",
       "1         -74.000671         40.750278      Low  32.0       0.000755  \n",
       "2         -73.991508         40.748821      Mid  32.0       0.000755  \n",
       "3         -73.987152         40.732422      Low  32.0       0.000755  \n",
       "4         -73.975616         40.750626      Low  32.0       0.000755  "
      ]
     },
     "execution_count": 3,
     "metadata": {},
     "output_type": "execute_result"
    }
   ],
   "source": [
    "taxi_df = pd.read_csv('Taxi_df.csv')\n",
    "taxi_df = taxi_df.drop('Unnamed: 0', axis = 1)\n",
    "\n",
    "pudt = taxi_df['pickup_datetime']\n",
    "dt_convt = convert_dt(pudt, '%Y-%m-%d %H:%M:%S')\n",
    "\n",
    "taxi_df['pickup_datetime'] = dt_convt\n",
    "\n",
    "taxi_df.head()"
   ]
  },
  {
   "cell_type": "code",
   "execution_count": 4,
   "metadata": {},
   "outputs": [
    {
     "data": {
      "text/plain": [
       "hack_license         False\n",
       "pickup_datetime      False\n",
       "payment_type         False\n",
       "total_amount         False\n",
       "tip_amount           False\n",
       "tip_percentage       False\n",
       "passenger_count      False\n",
       "trip_time_in_secs    False\n",
       "trip_distance        False\n",
       "pickup_longitude     False\n",
       "pickup_latitude      False\n",
       "dropoff_longitude    False\n",
       "dropoff_latitude     False\n",
       "tip_rate             False\n",
       "TAVG                 False\n",
       "precipitation        False\n",
       "dtype: bool"
      ]
     },
     "execution_count": 4,
     "metadata": {},
     "output_type": "execute_result"
    }
   ],
   "source": [
    "taxi_df.isnull().any()"
   ]
  },
  {
   "cell_type": "code",
   "execution_count": 8,
   "metadata": {
    "collapsed": true
   },
   "outputs": [],
   "source": [
    "tip_rate = taxi_df['tip_rate']"
   ]
  },
  {
   "cell_type": "code",
   "execution_count": 11,
   "metadata": {},
   "outputs": [
    {
     "data": {
      "image/png": "[encoded data removed]",
      "text/plain": [
       "<matplotlib.figure.Figure at 0x20300098400>"
      ]
     },
     "metadata": {},
     "output_type": "display_data"
    }
   ],
   "source": [
    "plt.hist(tip_rate)\n",
    "plt.title('Tip Rate')\n",
    "plt.xlabel('Tip Rate Amount')\n",
    "plt.ylabel('Occurances')\n",
    "\n",
    "plt.show()"
   ]
  },
  {
   "cell_type": "code",
   "execution_count": 16,
   "metadata": {
    "collapsed": true
   },
   "outputs": [],
   "source": [
    "trip_cost = taxi_df['total_amount']"
   ]
  },
  {
   "cell_type": "code",
   "execution_count": 21,
   "metadata": {
    "collapsed": true
   },
   "outputs": [],
   "source": [
    "tc = trip_cost[trip_cost < 120]\n",
    "tc = tc[tc > 0]"
   ]
  },
  {
   "cell_type": "code",
   "execution_count": 23,
   "metadata": {},
   "outputs": [
    {
     "data": {
      "image/png": "[encoded data removed]",
      "text/plain": [
       "<matplotlib.figure.Figure at 0x1fc57b014a8>"
      ]
     },
     "metadata": {},
     "output_type": "display_data"
    }
   ],
   "source": [
    "plt.hist(tc)\n",
    "plt.title('Trip Cost after Removing Outliers')\n",
    "plt.xlabel('Trip Cost')\n",
    "plt.ylabel('Occurances')\n",
    "\n",
    "plt.show()"
   ]
  },
  {
   "cell_type": "code",
   "execution_count": 12,
   "metadata": {
    "collapsed": true
   },
   "outputs": [],
   "source": [
    "tip_amount = taxi_df['tip_amount']"
   ]
  },
  {
   "cell_type": "code",
   "execution_count": 17,
   "metadata": {
    "collapsed": true
   },
   "outputs": [],
   "source": [
    "tp = tip_amount[tip_amount < 20]"
   ]
  },
  {
   "cell_type": "code",
   "execution_count": 15,
   "metadata": {},
   "outputs": [
    {
     "data": {
      "image/png": "[encoded data removed]",
      "text/plain": [
       "<matplotlib.figure.Figure at 0x1fc577d2a58>"
      ]
     },
     "metadata": {},
     "output_type": "display_data"
    }
   ],
   "source": [
    "plt.hist(tp)\n",
    "plt.title('Tip Amount after Removing Outliers')\n",
    "plt.xlabel('Tip Amount')\n",
    "plt.ylabel('Occurances')\n",
    "\n",
    "plt.show()"
   ]
  },
  {
   "cell_type": "code",
   "execution_count": 15,
   "metadata": {
    "collapsed": true
   },
   "outputs": [],
   "source": [
    "tip_percentage = taxi_df['tip_percentage']"
   ]
  },
  {
   "cell_type": "code",
   "execution_count": 16,
   "metadata": {},
   "outputs": [
    {
     "data": {
      "image/png": "[encoded data removed]",
      "text/plain": [
       "<matplotlib.figure.Figure at 0x203001290f0>"
      ]
     },
     "metadata": {},
     "output_type": "display_data"
    }
   ],
   "source": [
    "plt.hist(tip_percentage)\n",
    "plt.title('Tip Percentage')\n",
    "plt.xlabel('Tip Percentage Amount')\n",
    "plt.ylabel('Occurances')\n",
    "\n",
    "plt.show()"
   ]
  },
  {
   "cell_type": "code",
   "execution_count": 30,
   "metadata": {},
   "outputs": [],
   "source": [
    "time = taxi_df['trip_time_in_secs']\n",
    "time = time[time < 5000]"
   ]
  },
  {
   "cell_type": "code",
   "execution_count": 33,
   "metadata": {},
   "outputs": [
    {
     "data": {
      "image/png": "[encoded data removed]",
      "text/plain": [
       "<matplotlib.figure.Figure at 0x1fc57815080>"
      ]
     },
     "metadata": {},
     "output_type": "display_data"
    }
   ],
   "source": [
    "plt.hist(time)\n",
    "plt.title('Trip Time After Removing Outliers')\n",
    "plt.xlabel('Trip Time in Seconds')\n",
    "plt.ylabel('Occurances')\n",
    "\n",
    "plt.show()"
   ]
  },
  {
   "cell_type": "code",
   "execution_count": 43,
   "metadata": {
    "collapsed": true
   },
   "outputs": [],
   "source": [
    "dist = taxi_df['trip_distance']\n",
    "dist = dist[dist < 25]"
   ]
  },
  {
   "cell_type": "code",
   "execution_count": 44,
   "metadata": {},
   "outputs": [
    {
     "data": {
      "image/png": "[encoded data removed]",
      "text/plain": [
       "<matplotlib.figure.Figure at 0x1fc654613c8>"
      ]
     },
     "metadata": {},
     "output_type": "display_data"
    }
   ],
   "source": [
    "plt.hist(dist)\n",
    "plt.title('Trip Time After Removing Outliers')\n",
    "plt.xlabel('Trip Distance')\n",
    "plt.ylabel('Occurances')\n",
    "\n",
    "plt.show()"
   ]
  },
  {
   "cell_type": "code",
   "execution_count": 46,
   "metadata": {},
   "outputs": [],
   "source": [
    "pu = taxi_df['pickup_datetime']\n",
    "hours = []\n",
    "\n",
    "for p in pu:\n",
    "    hours.append(p.hour)"
   ]
  },
  {
   "cell_type": "code",
   "execution_count": 54,
   "metadata": {},
   "outputs": [
    {
     "data": {
      "image/png": "[encoded data removed]",
      "text/plain": [
       "<matplotlib.figure.Figure at 0x1fc653fdf28>"
      ]
     },
     "metadata": {},
     "output_type": "display_data"
    }
   ],
   "source": [
    "plt.hist(hours, bins = 24)\n",
    "plt.title('Pick up Hour')\n",
    "plt.xlabel('Hour of Day')\n",
    "plt.ylabel('Occurances')\n",
    "\n",
    "plt.show()"
   ]
  },
  {
   "cell_type": "code",
   "execution_count": 50,
   "metadata": {},
   "outputs": [
    {
     "data": {
      "text/plain": [
       "array([ 1,  2,  3,  4,  5,  6,  7,  8,  9, 10, 11, 12, 13, 14, 15, 16, 17,\n",
       "       18, 19, 20, 21, 22, 23, 24])"
      ]
     },
     "execution_count": 50,
     "metadata": {},
     "output_type": "execute_result"
    }
   ],
   "source": []
  },
  {
   "cell_type": "code",
   "execution_count": null,
   "metadata": {
    "collapsed": true
   },
   "outputs": [],
   "source": []
  }
 ],
 "metadata": {
  "kernelspec": {
   "display_name": "Python 3",
   "language": "python",
   "name": "python3"
  },
  "language_info": {
   "codemirror_mode": {
    "name": "ipython",
    "version": 3
   },
   "file_extension": ".py",
   "mimetype": "text/x-python",
   "name": "python",
   "nbconvert_exporter": "python",
   "pygments_lexer": "ipython3",
   "version": "3.7.3"
  }
 },
 "nbformat": 4,
 "nbformat_minor": 2
}
